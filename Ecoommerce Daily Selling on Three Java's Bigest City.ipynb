{
  "nbformat": 4,
  "nbformat_minor": 0,
  "metadata": {
    "colab": {
      "name": "Test.ipynb",
      "provenance": [],
      "collapsed_sections": [],
      "toc_visible": true,
      "include_colab_link": true
    },
    "kernelspec": {
      "name": "python3",
      "display_name": "Python 3"
    }
  },
  "cells": [
    {
      "cell_type": "markdown",
      "metadata": {
        "id": "view-in-github",
        "colab_type": "text"
      },
      "source": [
        "<a href=\"https://colab.research.google.com/github/mrfirdauss-20/Codeforces/blob/master/Ecoommerce%20Daily%20Selling%20on%20Three%20Java's%20Bigest%20City.ipynb\" target=\"_parent\"><img src=\"https://colab.research.google.com/assets/colab-badge.svg\" alt=\"Open In Colab\"/></a>"
      ]
    },
    {
      "cell_type": "code",
      "metadata": {
        "colab": {
          "base_uri": "https://localhost:8080/"
        },
        "id": "4hd2DDhwKPA0",
        "outputId": "ae0c202f-8d0e-47e0-f04b-25149f007b68"
      },
      "source": [
        "from google.colab import drive \r\n",
        "drive.mount('/content/gdrive')"
      ],
      "execution_count": null,
      "outputs": [
        {
          "output_type": "stream",
          "text": [
            "Drive already mounted at /content/gdrive; to attempt to forcibly remount, call drive.mount(\"/content/gdrive\", force_remount=True).\n"
          ],
          "name": "stdout"
        }
      ]
    },
    {
      "cell_type": "code",
      "metadata": {
        "colab": {
          "base_uri": "https://localhost:8080/"
        },
        "id": "6I9xXwc9MiUN",
        "outputId": "db575e82-c785-42ec-e4d9-47fc61eff2ce"
      },
      "source": [
        "import pandas as pd\r\n",
        "import matplotlib.pyplot as plt\r\n",
        "import numpy as np\r\n",
        "\r\n",
        "df=pd.read_csv('gdrive/My Drive/unclean.csv')\r\n",
        "df.info()"
      ],
      "execution_count": null,
      "outputs": [
        {
          "output_type": "stream",
          "text": [
            "<class 'pandas.core.frame.DataFrame'>\n",
            "RangeIndex: 505 entries, 0 to 504\n",
            "Data columns (total 7 columns):\n",
            " #   Column       Non-Null Count  Dtype  \n",
            "---  ------       --------------  -----  \n",
            " 0   InvoiceNo    505 non-null    int64  \n",
            " 1   Description  505 non-null    object \n",
            " 2   Quantity     485 non-null    float64\n",
            " 3   InvoiceDate  505 non-null    object \n",
            " 4   UnitPrice    505 non-null    int64  \n",
            " 5   CustomerID   505 non-null    int64  \n",
            " 6   City         505 non-null    object \n",
            "dtypes: float64(1), int64(3), object(3)\n",
            "memory usage: 27.7+ KB\n"
          ],
          "name": "stdout"
        }
      ]
    },
    {
      "cell_type": "code",
      "metadata": {
        "colab": {
          "base_uri": "https://localhost:8080/"
        },
        "id": "UxpHWwunmLwK",
        "outputId": "79ea3a04-b589-47c7-e259-a56f3e8c93ef"
      },
      "source": [
        "# Mengecek kolom yang memiliki data yang kosong pada dataset.\r\n",
        "print('Check kolom yang memiliki missing data:')\r\n",
        "print(df.isnull().any())"
      ],
      "execution_count": null,
      "outputs": [
        {
          "output_type": "stream",
          "text": [
            "Check kolom yang memiliki missing data:\n",
            "InvoiceNo      False\n",
            "Description    False\n",
            "Quantity        True\n",
            "InvoiceDate    False\n",
            "UnitPrice      False\n",
            "CustomerID     False\n",
            "City           False\n",
            "dtype: bool\n"
          ],
          "name": "stdout"
        }
      ]
    },
    {
      "cell_type": "code",
      "metadata": {
        "colab": {
          "base_uri": "https://localhost:8080/"
        },
        "id": "gX6vWTbxmV9I",
        "outputId": "d5e1ccc3-7ce8-4f04-c7bf-8fa4b140c47a"
      },
      "source": [
        "# Drop missing value (cleaning data)\r\n",
        "print('\\nDrop missing value dan cek shape:')\r\n",
        "#df=df['Quantity'].dropna()\r\n",
        "df=df.dropna()\r\n",
        "print(df.shape)"
      ],
      "execution_count": null,
      "outputs": [
        {
          "output_type": "stream",
          "text": [
            "\n",
            "Drop missing value dan cek shape:\n",
            "(485, 7)\n"
          ],
          "name": "stdout"
        }
      ]
    },
    {
      "cell_type": "code",
      "metadata": {
        "colab": {
          "base_uri": "https://localhost:8080/"
        },
        "id": "r3_9GMDmNjDj",
        "outputId": "e23c62c2-9fa3-40f0-d415-9bd9f98a36bc"
      },
      "source": [
        "# Menampilkan informasi yang terdapat pada dataset\r\n",
        "df.info()"
      ],
      "execution_count": null,
      "outputs": [
        {
          "output_type": "stream",
          "text": [
            "<class 'pandas.core.frame.DataFrame'>\n",
            "Int64Index: 485 entries, 0 to 504\n",
            "Data columns (total 7 columns):\n",
            " #   Column       Non-Null Count  Dtype  \n",
            "---  ------       --------------  -----  \n",
            " 0   InvoiceNo    485 non-null    int64  \n",
            " 1   Description  485 non-null    object \n",
            " 2   Quantity     485 non-null    float64\n",
            " 3   InvoiceDate  485 non-null    object \n",
            " 4   UnitPrice    485 non-null    int64  \n",
            " 5   CustomerID   485 non-null    int64  \n",
            " 6   City         485 non-null    object \n",
            "dtypes: float64(1), int64(3), object(3)\n",
            "memory usage: 30.3+ KB\n"
          ],
          "name": "stdout"
        }
      ]
    },
    {
      "cell_type": "code",
      "metadata": {
        "id": "Nwh2YeA6P3ha",
        "colab": {
          "base_uri": "https://localhost:8080/"
        },
        "outputId": "34094101-eb3e-49f3-c31a-79118cbf0e46"
      },
      "source": [
        "# Menampilkan dataset\r\n",
        "print(df)"
      ],
      "execution_count": null,
      "outputs": [
        {
          "output_type": "stream",
          "text": [
            "     InvoiceNo                          Description  ...  CustomerID      City\n",
            "0       536365   WHITE HANGING HEART T-LIGHT HOLDER  ...       17850  Surabaya\n",
            "1       536366                  WHITE METAL LANTERN  ...       17850  Surabaya\n",
            "2       536367       CREAM CUPID HEARTS COAT HANGER  ...       17850  Surabaya\n",
            "3       536368  KNITTED UNION FLAG HOT WATER BOTTLE  ...       17850   Jakarta\n",
            "4       536369       RED WOOLLY HOTTIE WHITE HEART.  ...       17850     Medan\n",
            "..         ...                                  ...  ...         ...       ...\n",
            "500     536772       PACK OF 60 SPACEBOY CAKE CASES  ...       16218  Surabaya\n",
            "501     536773      PACK OF 72 RETROSPOT CAKE CASES  ...       16218  Surabaya\n",
            "502     536774       72 SWEETHEART FAIRY CAKE CASES  ...       16218     Medan\n",
            "503     536775       PACK OF 60 DINOSAUR CAKE CASES  ...       16218  Surabaya\n",
            "504     536776               LUNCH BAG SUKI  DESIGN  ...       16218   Jakarta\n",
            "\n",
            "[485 rows x 7 columns]\n"
          ],
          "name": "stdout"
        }
      ]
    },
    {
      "cell_type": "code",
      "metadata": {
        "colab": {
          "base_uri": "https://localhost:8080/"
        },
        "id": "NQEE3J0Yw5bz",
        "outputId": "4616f8dd-a78d-4fad-f22c-bf65485e09c7"
      },
      "source": [
        "# Menghitung total pembelian dari jumlah barang yang dibeli pada setiap tanggal\r\n",
        "\r\n",
        "df['total']=df['Quantity']*df['UnitPrice'] # Membuat variabel yang menyimpan hasil perhitungan total pembelian barang.\r\n",
        "print(df['total'])"
      ],
      "execution_count": null,
      "outputs": [
        {
          "output_type": "stream",
          "text": [
            "0      174000.0\n",
            "1      246000.0\n",
            "2      144000.0\n",
            "3      228000.0\n",
            "4      162000.0\n",
            "         ...   \n",
            "500    984000.0\n",
            "501    840000.0\n",
            "502    768000.0\n",
            "503    744000.0\n",
            "504    390000.0\n",
            "Name: total, Length: 485, dtype: float64\n"
          ],
          "name": "stdout"
        }
      ]
    },
    {
      "cell_type": "code",
      "metadata": {
        "colab": {
          "base_uri": "https://localhost:8080/"
        },
        "id": "QhJufGqPUICP",
        "outputId": "08b3a426-f552-414a-ae0b-e58f94139d1f"
      },
      "source": [
        "# Mengurutkan kolom InvoiceDate pada dataset dari yang terbesar\r\n",
        "print(df.sort_values([\"InvoiceDate\"], ascending=[0]))"
      ],
      "execution_count": null,
      "outputs": [
        {
          "output_type": "stream",
          "text": [
            "     InvoiceNo                          Description  ...      City     total\n",
            "484     536849         WHITE SKULL HOT WATER BOTTLE  ...   Jakarta   35000.0\n",
            "494     536859          UNION JACK FLAG LUGGAGE TAG  ...     Medan   33000.0\n",
            "483     536848      5 STRAND GLASS NECKLACE CRYSTAL  ...     Medan   78000.0\n",
            "485     536850         SCOTTIE DOG HOT WATER BOTTLE  ...  Surabaya   27000.0\n",
            "486     536851  SQUARECUSHION COVER PINK UNION FLAG  ...   Jakarta   37000.0\n",
            "..         ...                                  ...  ...       ...       ...\n",
            "3       536368  KNITTED UNION FLAG HOT WATER BOTTLE  ...   Jakarta  228000.0\n",
            "1       536366                  WHITE METAL LANTERN  ...  Surabaya  246000.0\n",
            "5       536370         SET 7 BABUSHKA NESTING BOXES  ...   Jakarta   48000.0\n",
            "6       536371    GLASS STAR FROSTED T-LIGHT HOLDER  ...     Medan  156000.0\n",
            "0       536365   WHITE HANGING HEART T-LIGHT HOLDER  ...  Surabaya  174000.0\n",
            "\n",
            "[485 rows x 8 columns]\n"
          ],
          "name": "stdout"
        }
      ]
    },
    {
      "cell_type": "code",
      "metadata": {
        "colab": {
          "base_uri": "https://localhost:8080/"
        },
        "id": "Sfh6VLFrYjoj",
        "outputId": "af1c4d73-7187-47f8-cb1d-2723f78a8b21"
      },
      "source": [
        "# Mengurutkan kolom InvoiceDate pada dataset dari yang terkecil\r\n",
        "print(df.sort_values([\"InvoiceDate\"], ascending=[1]))"
      ],
      "execution_count": null,
      "outputs": [
        {
          "output_type": "stream",
          "text": [
            "     InvoiceNo                          Description  ...      City     total\n",
            "0       536365   WHITE HANGING HEART T-LIGHT HOLDER  ...  Surabaya  174000.0\n",
            "1       536366                  WHITE METAL LANTERN  ...  Surabaya  246000.0\n",
            "2       536367       CREAM CUPID HEARTS COAT HANGER  ...  Surabaya  144000.0\n",
            "3       536368  KNITTED UNION FLAG HOT WATER BOTTLE  ...   Jakarta  228000.0\n",
            "4       536369       RED WOOLLY HOTTIE WHITE HEART.  ...     Medan  162000.0\n",
            "..         ...                                  ...  ...       ...       ...\n",
            "486     536851  SQUARECUSHION COVER PINK UNION FLAG  ...   Jakarta   37000.0\n",
            "485     536850         SCOTTIE DOG HOT WATER BOTTLE  ...  Surabaya   27000.0\n",
            "484     536849         WHITE SKULL HOT WATER BOTTLE  ...   Jakarta   35000.0\n",
            "493     536858  SET 12 LAVENDER  BOTANICAL T-LIGHTS  ...     Medan   17000.0\n",
            "483     536848      5 STRAND GLASS NECKLACE CRYSTAL  ...     Medan   78000.0\n",
            "\n",
            "[485 rows x 8 columns]\n"
          ],
          "name": "stdout"
        }
      ]
    },
    {
      "cell_type": "code",
      "metadata": {
        "colab": {
          "base_uri": "https://localhost:8080/"
        },
        "id": "_hzVa_uVaQcO",
        "outputId": "c27cc256-ae0d-4ec1-f289-c2d2b6092646"
      },
      "source": [
        "# Menampilkan data pada baris pertama  \r\n",
        "print(df.loc[0])"
      ],
      "execution_count": null,
      "outputs": [
        {
          "output_type": "stream",
          "text": [
            "InvoiceNo                                  536365\n",
            "Description    WHITE HANGING HEART T-LIGHT HOLDER\n",
            "Quantity                                        6\n",
            "InvoiceDate                        12/01/10 08.26\n",
            "UnitPrice                                   29000\n",
            "CustomerID                                  17850\n",
            "City                                     Surabaya\n",
            "total                                      174000\n",
            "Name: 0, dtype: object\n"
          ],
          "name": "stdout"
        }
      ]
    },
    {
      "cell_type": "code",
      "metadata": {
        "colab": {
          "base_uri": "https://localhost:8080/"
        },
        "id": "UEoaGd6iggk0",
        "outputId": "e4330407-d966-4f06-c1d0-44eb7cd569eb"
      },
      "source": [
        "# Menampilkan jumlah baris pada setiap kolom\r\n",
        "print(df.count())"
      ],
      "execution_count": null,
      "outputs": [
        {
          "output_type": "stream",
          "text": [
            "InvoiceNo      485\n",
            "Description    485\n",
            "Quantity       485\n",
            "InvoiceDate    485\n",
            "UnitPrice      485\n",
            "CustomerID     485\n",
            "City           485\n",
            "total          485\n",
            "dtype: int64\n"
          ],
          "name": "stdout"
        }
      ]
    },
    {
      "cell_type": "code",
      "metadata": {
        "colab": {
          "base_uri": "https://localhost:8080/"
        },
        "id": "CLJXpJpnp1iE",
        "outputId": "b43029d6-cf29-405c-898e-151760e86616"
      },
      "source": [
        "# Menampilkan statistik sederhana dari data\r\n",
        "print(df.describe())"
      ],
      "execution_count": null,
      "outputs": [
        {
          "output_type": "stream",
          "text": [
            "           InvoiceNo      Quantity     UnitPrice    CustomerID         total\n",
            "count     485.000000    485.000000  4.850000e+02    485.000000  4.850000e+02\n",
            "mean   536613.707216    177.593814  4.602062e+04  15705.138144  5.951744e+06\n",
            "std       146.636522   2871.039379  2.231207e+05   1761.875712  9.448231e+07\n",
            "min    536365.000000     -1.000000  1.500000e+04  12431.000000 -2.200000e+04\n",
            "25%    536486.000000      3.000000  2.200000e+04  14307.000000  8.800000e+04\n",
            "50%    536607.000000      6.000000  2.900000e+04  15862.000000  2.040000e+05\n",
            "75%    536748.000000     12.000000  3.800000e+04  17548.000000  4.560000e+05\n",
            "max    536863.000000  62000.000000  4.100000e+06  18074.000000  2.046000e+09\n"
          ],
          "name": "stdout"
        }
      ]
    },
    {
      "cell_type": "code",
      "metadata": {
        "colab": {
          "base_uri": "https://localhost:8080/"
        },
        "id": "vxooH-j35Y_b",
        "outputId": "e73a4c21-eeac-404c-fdac-064123c244ca"
      },
      "source": [
        "# Menemukan data Quantity yang bernilai negatif\r\n",
        "df2=df.loc[df['Quantity']<0]\r\n",
        "print(df.loc[df['Quantity']<1])\r\n",
        "# Menampilkan data pada baris yang ditemukan memiliki Quantity negatif"
      ],
      "execution_count": null,
      "outputs": [
        {
          "output_type": "stream",
          "text": [
            "     InvoiceNo                      Description  ...   City    total\n",
            "154     536519  SET OF 3 COLOURED  FLYING DUCKS  ...  Medan -22000.0\n",
            "\n",
            "[1 rows x 8 columns]\n"
          ],
          "name": "stdout"
        }
      ]
    },
    {
      "cell_type": "code",
      "metadata": {
        "id": "i8PqVMF5hyWR"
      },
      "source": [
        "# Menghapus data pada baris ke-154\r\n",
        "df3=df.drop(154)\r\n",
        "df=df3"
      ],
      "execution_count": null,
      "outputs": []
    },
    {
      "cell_type": "code",
      "metadata": {
        "id": "ICfCgoUqv3yV"
      },
      "source": [
        ""
      ],
      "execution_count": null,
      "outputs": []
    },
    {
      "cell_type": "code",
      "metadata": {
        "id": "7ql6P6gb8XYs",
        "colab": {
          "base_uri": "https://localhost:8080/"
        },
        "outputId": "abbf505b-a4c4-4337-cbd2-f663e215395b"
      },
      "source": [
        "# Menampilkan informasi pada setiap kolom\r\n",
        "print(df.info())"
      ],
      "execution_count": null,
      "outputs": [
        {
          "output_type": "stream",
          "text": [
            "<class 'pandas.core.frame.DataFrame'>\n",
            "Int64Index: 484 entries, 0 to 504\n",
            "Data columns (total 8 columns):\n",
            " #   Column       Non-Null Count  Dtype  \n",
            "---  ------       --------------  -----  \n",
            " 0   InvoiceNo    484 non-null    int64  \n",
            " 1   Description  484 non-null    object \n",
            " 2   Quantity     484 non-null    float64\n",
            " 3   InvoiceDate  484 non-null    object \n",
            " 4   UnitPrice    484 non-null    int64  \n",
            " 5   CustomerID   484 non-null    int64  \n",
            " 6   City         484 non-null    object \n",
            " 7   total        484 non-null    float64\n",
            "dtypes: float64(2), int64(3), object(3)\n",
            "memory usage: 34.0+ KB\n",
            "None\n"
          ],
          "name": "stdout"
        }
      ]
    },
    {
      "cell_type": "code",
      "metadata": {
        "colab": {
          "base_uri": "https://localhost:8080/"
        },
        "id": "F7rMO9oBiSnP",
        "outputId": "4177292b-f871-4d7a-a16e-97a6f0aa4df6"
      },
      "source": [
        "# Menampilkan percentile pada kolom ....\r\n",
        "print(df.quantile([.1, .25, .50, .75, .90]))"
      ],
      "execution_count": null,
      "outputs": [
        {
          "output_type": "stream",
          "text": [
            "      InvoiceNo  Quantity  UnitPrice  CustomerID     total\n",
            "0.10   536411.2       1.0    18000.0     13047.0   34000.0\n",
            "0.25   536481.5       3.0    22000.0     14307.0   79000.0\n",
            "0.50   536629.0       6.0    29000.0     15862.0  174000.0\n",
            "0.75   536754.5      12.0    37500.0     17850.0  322000.0\n",
            "0.90   536817.4      24.0    42000.0     17850.0  544800.0\n"
          ],
          "name": "stdout"
        }
      ]
    },
    {
      "cell_type": "code",
      "metadata": {
        "id": "sdSmgkPzwRde"
      },
      "source": [
        "# Membersihkan data yang terlalu besar atau terlalu kecil\r\n",
        "Q1 = df['Quantity'].quantile(0.25)\r\n",
        "Q3 = df['Quantity'].quantile(0.75)\r\n",
        "IQR = Q3 - Q1\r\n",
        "df = df[~((df['Quantity'] < (Q1-1.5*IQR)) | (df['Quantity'] > (Q3+1.5*IQR)))]"
      ],
      "execution_count": null,
      "outputs": []
    },
    {
      "cell_type": "code",
      "metadata": {
        "id": "7r8rSRLmDWhi"
      },
      "source": [
        "# Membersihkan data yang terlalu besar atau terlalu kecil\r\n",
        "Q1 = df['UnitPrice'].quantile(0.25)\r\n",
        "Q3 = df['UnitPrice'].quantile(0.75)\r\n",
        "IQR = Q3 - Q1\r\n",
        "df = df[~((df['UnitPrice'] < (Q1-1.5*IQR)) | (df['UnitPrice'] > (Q3+1.5*IQR)))]"
      ],
      "execution_count": null,
      "outputs": []
    },
    {
      "cell_type": "code",
      "metadata": {
        "colab": {
          "base_uri": "https://localhost:8080/",
          "height": 297
        },
        "id": "3hkyGP8Ei5Pb",
        "outputId": "2e57cea5-3a9a-451a-96d6-a672db05afc8"
      },
      "source": [
        "# Menampilkan statistik sederhana pada data\r\n",
        "df.describe()"
      ],
      "execution_count": null,
      "outputs": [
        {
          "output_type": "execute_result",
          "data": {
            "text/html": [
              "<div>\n",
              "<style scoped>\n",
              "    .dataframe tbody tr th:only-of-type {\n",
              "        vertical-align: middle;\n",
              "    }\n",
              "\n",
              "    .dataframe tbody tr th {\n",
              "        vertical-align: top;\n",
              "    }\n",
              "\n",
              "    .dataframe thead th {\n",
              "        text-align: right;\n",
              "    }\n",
              "</style>\n",
              "<table border=\"1\" class=\"dataframe\">\n",
              "  <thead>\n",
              "    <tr style=\"text-align: right;\">\n",
              "      <th></th>\n",
              "      <th>InvoiceNo</th>\n",
              "      <th>Quantity</th>\n",
              "      <th>UnitPrice</th>\n",
              "      <th>CustomerID</th>\n",
              "      <th>total</th>\n",
              "    </tr>\n",
              "  </thead>\n",
              "  <tbody>\n",
              "    <tr>\n",
              "      <th>count</th>\n",
              "      <td>427.000000</td>\n",
              "      <td>427.000000</td>\n",
              "      <td>4.270000e+02</td>\n",
              "      <td>427.000000</td>\n",
              "      <td>4.270000e+02</td>\n",
              "    </tr>\n",
              "    <tr>\n",
              "      <th>mean</th>\n",
              "      <td>536616.318501</td>\n",
              "      <td>8.093677</td>\n",
              "      <td>4.808899e+04</td>\n",
              "      <td>15701.309133</td>\n",
              "      <td>4.602670e+05</td>\n",
              "    </tr>\n",
              "    <tr>\n",
              "      <th>std</th>\n",
              "      <td>149.832745</td>\n",
              "      <td>6.915020</td>\n",
              "      <td>2.377264e+05</td>\n",
              "      <td>1778.728751</td>\n",
              "      <td>2.868641e+06</td>\n",
              "    </tr>\n",
              "    <tr>\n",
              "      <th>min</th>\n",
              "      <td>536365.000000</td>\n",
              "      <td>1.000000</td>\n",
              "      <td>1.500000e+04</td>\n",
              "      <td>12431.000000</td>\n",
              "      <td>1.600000e+04</td>\n",
              "    </tr>\n",
              "    <tr>\n",
              "      <th>25%</th>\n",
              "      <td>536481.500000</td>\n",
              "      <td>3.000000</td>\n",
              "      <td>2.200000e+04</td>\n",
              "      <td>14307.000000</td>\n",
              "      <td>7.900000e+04</td>\n",
              "    </tr>\n",
              "    <tr>\n",
              "      <th>50%</th>\n",
              "      <td>536629.000000</td>\n",
              "      <td>6.000000</td>\n",
              "      <td>2.900000e+04</td>\n",
              "      <td>15862.000000</td>\n",
              "      <td>1.740000e+05</td>\n",
              "    </tr>\n",
              "    <tr>\n",
              "      <th>75%</th>\n",
              "      <td>536754.500000</td>\n",
              "      <td>12.000000</td>\n",
              "      <td>3.750000e+04</td>\n",
              "      <td>17850.000000</td>\n",
              "      <td>3.220000e+05</td>\n",
              "    </tr>\n",
              "    <tr>\n",
              "      <th>max</th>\n",
              "      <td>536863.000000</td>\n",
              "      <td>25.000000</td>\n",
              "      <td>4.100000e+06</td>\n",
              "      <td>18074.000000</td>\n",
              "      <td>4.920000e+07</td>\n",
              "    </tr>\n",
              "  </tbody>\n",
              "</table>\n",
              "</div>"
            ],
            "text/plain": [
              "           InvoiceNo    Quantity     UnitPrice    CustomerID         total\n",
              "count     427.000000  427.000000  4.270000e+02    427.000000  4.270000e+02\n",
              "mean   536616.318501    8.093677  4.808899e+04  15701.309133  4.602670e+05\n",
              "std       149.832745    6.915020  2.377264e+05   1778.728751  2.868641e+06\n",
              "min    536365.000000    1.000000  1.500000e+04  12431.000000  1.600000e+04\n",
              "25%    536481.500000    3.000000  2.200000e+04  14307.000000  7.900000e+04\n",
              "50%    536629.000000    6.000000  2.900000e+04  15862.000000  1.740000e+05\n",
              "75%    536754.500000   12.000000  3.750000e+04  17850.000000  3.220000e+05\n",
              "max    536863.000000   25.000000  4.100000e+06  18074.000000  4.920000e+07"
            ]
          },
          "metadata": {
            "tags": []
          },
          "execution_count": 64
        }
      ]
    },
    {
      "cell_type": "code",
      "metadata": {
        "colab": {
          "base_uri": "https://localhost:8080/"
        },
        "id": "aLJ-NIOf92XU",
        "outputId": "2285f8f1-74cd-40ed-90ae-b2ee8f2441fd"
      },
      "source": [
        "#Cetak informasi tentang dataset\r\n",
        "df.info()"
      ],
      "execution_count": null,
      "outputs": [
        {
          "output_type": "stream",
          "text": [
            "<class 'pandas.core.frame.DataFrame'>\n",
            "Int64Index: 427 entries, 0 to 504\n",
            "Data columns (total 8 columns):\n",
            " #   Column       Non-Null Count  Dtype  \n",
            "---  ------       --------------  -----  \n",
            " 0   InvoiceNo    427 non-null    int64  \n",
            " 1   Description  427 non-null    object \n",
            " 2   Quantity     427 non-null    float64\n",
            " 3   InvoiceDate  427 non-null    object \n",
            " 4   UnitPrice    427 non-null    int64  \n",
            " 5   CustomerID   427 non-null    int64  \n",
            " 6   City         427 non-null    object \n",
            " 7   total        427 non-null    float64\n",
            "dtypes: float64(2), int64(3), object(3)\n",
            "memory usage: 30.0+ KB\n"
          ],
          "name": "stdout"
        }
      ]
    },
    {
      "cell_type": "code",
      "metadata": {
        "id": "WZueM9q-mvbO",
        "colab": {
          "base_uri": "https://localhost:8080/"
        },
        "outputId": "57882b6e-c54d-417f-ca7c-0a43a6656e8e"
      },
      "source": [
        "import datetime\r\n",
        "df['jam']=df['InvoiceDate'].apply(lambda x:datetime.datetime.strptime(x, \"%d/%m/%y %H.%M\").strftime('%H.%M'))\r\n",
        "print(df.head())"
      ],
      "execution_count": null,
      "outputs": [
        {
          "output_type": "stream",
          "text": [
            "   InvoiceNo                          Description  ...     total    jam\n",
            "0     536365   WHITE HANGING HEART T-LIGHT HOLDER  ...  174000.0  08.26\n",
            "1     536366                  WHITE METAL LANTERN  ...  246000.0  08.26\n",
            "2     536367       CREAM CUPID HEARTS COAT HANGER  ...  144000.0  08.26\n",
            "3     536368  KNITTED UNION FLAG HOT WATER BOTTLE  ...  228000.0  08.26\n",
            "4     536369       RED WOOLLY HOTTIE WHITE HEART.  ...  162000.0  08.26\n",
            "\n",
            "[5 rows x 9 columns]\n"
          ],
          "name": "stdout"
        },
        {
          "output_type": "stream",
          "text": [
            "/usr/local/lib/python3.6/dist-packages/ipykernel_launcher.py:2: SettingWithCopyWarning: \n",
            "A value is trying to be set on a copy of a slice from a DataFrame.\n",
            "Try using .loc[row_indexer,col_indexer] = value instead\n",
            "\n",
            "See the caveats in the documentation: https://pandas.pydata.org/pandas-docs/stable/user_guide/indexing.html#returning-a-view-versus-a-copy\n",
            "  \n"
          ],
          "name": "stderr"
        }
      ]
    },
    {
      "cell_type": "code",
      "metadata": {
        "colab": {
          "base_uri": "https://localhost:8080/"
        },
        "id": "hNHISRri_dOs",
        "outputId": "5dffc418-36fa-4929-a590-bd05586a7643"
      },
      "source": [
        "#cek info setelah pemisahan\r\n",
        "df.info()"
      ],
      "execution_count": null,
      "outputs": [
        {
          "output_type": "stream",
          "text": [
            "<class 'pandas.core.frame.DataFrame'>\n",
            "Int64Index: 427 entries, 0 to 504\n",
            "Data columns (total 9 columns):\n",
            " #   Column       Non-Null Count  Dtype  \n",
            "---  ------       --------------  -----  \n",
            " 0   InvoiceNo    427 non-null    int64  \n",
            " 1   Description  427 non-null    object \n",
            " 2   Quantity     427 non-null    float64\n",
            " 3   InvoiceDate  427 non-null    object \n",
            " 4   UnitPrice    427 non-null    int64  \n",
            " 5   CustomerID   427 non-null    int64  \n",
            " 6   City         427 non-null    object \n",
            " 7   total        427 non-null    float64\n",
            " 8   jam          427 non-null    object \n",
            "dtypes: float64(2), int64(3), object(4)\n",
            "memory usage: 33.4+ KB\n"
          ],
          "name": "stdout"
        }
      ]
    },
    {
      "cell_type": "code",
      "metadata": {
        "colab": {
          "base_uri": "https://localhost:8080/"
        },
        "id": "FqPAnhw_0RSO",
        "outputId": "d0b741b0-e8d4-4be8-a628-c0328c5a603a"
      },
      "source": [
        "# Menampilkan tabel frekuensi pada kolom City. \r\n",
        "print(df[\"City\"].value_counts())"
      ],
      "execution_count": null,
      "outputs": [
        {
          "output_type": "stream",
          "text": [
            "Surabaya    161\n",
            "Medan       135\n",
            "Jakarta     128\n",
            "Name: City, dtype: int64\n"
          ],
          "name": "stdout"
        }
      ]
    },
    {
      "cell_type": "code",
      "metadata": {
        "id": "Fe1pJAy62P8f",
        "colab": {
          "base_uri": "https://localhost:8080/"
        },
        "outputId": "164c3de9-5288-4604-d22c-8dac108078d0"
      },
      "source": [
        "# Menampilkan tabel frekuensi pada kolom Description.\r\n",
        "print(df['Description'].value_counts())"
      ],
      "execution_count": null,
      "outputs": [
        {
          "output_type": "stream",
          "text": [
            "SET 7 BABUSHKA NESTING BOXES           6\n",
            "RED WOOLLY HOTTIE WHITE HEART.         6\n",
            "WHITE HANGING HEART T-LIGHT HOLDER     6\n",
            "KNITTED UNION FLAG HOT WATER BOTTLE    6\n",
            "WHITE METAL LANTERN                    5\n",
            "                                      ..\n",
            "JUMBO STORAGE BAG SUKI                 1\n",
            "10 COLOUR SPACEBOY PEN                 1\n",
            "ROSE COTTAGE KEEPSAKE BOX              1\n",
            "TV DINNER TRAY VINTAGE PAISLEY         1\n",
            "ROUND SNACK BOXES SET OF4 WOODLAND     1\n",
            "Name: Description, Length: 289, dtype: int64\n"
          ],
          "name": "stdout"
        }
      ]
    },
    {
      "cell_type": "code",
      "metadata": {
        "colab": {
          "base_uri": "https://localhost:8080/"
        },
        "id": "uZON2W5R3-jK",
        "outputId": "429bc800-bcff-4f76-bc2d-93a56cf5ba7a"
      },
      "source": [
        "# Menampilkan tabel frekuensi untuk kolom InvoiceDate\r\n",
        "print(df[\"InvoiceDate\"].value_counts())"
      ],
      "execution_count": null,
      "outputs": [
        {
          "output_type": "stream",
          "text": [
            "12/01/10 11.21    53\n",
            "12/01/10 11.41    40\n",
            "12/01/10 09.41    36\n",
            "12/01/10 11.29    32\n",
            "12/01/10 10.51    19\n",
            "12/01/10 10.52    19\n",
            "12/01/10 08.45    18\n",
            "12/01/10 11.33    17\n",
            "12/01/10 09.02    16\n",
            "12/01/10 09.37    16\n",
            "12/01/10 11.45    16\n",
            "12/01/10 09.32    16\n",
            "12/01/10 08.34    15\n",
            "12/01/10 09.59    14\n",
            "12/01/10 10.03    14\n",
            "12/01/10 09.45    11\n",
            "12/01/10 10.47    11\n",
            "12/01/10 09.53    10\n",
            "12/01/10 10.29     9\n",
            "12/01/10 10.19     8\n",
            "12/01/10 08.26     7\n",
            "12/01/10 10.24     7\n",
            "12/01/10 09.56     7\n",
            "12/01/10 08.28     2\n",
            "12/01/10 10.39     2\n",
            "12/01/10 11.34     2\n",
            "12/01/10 09.01     2\n",
            "12/01/10 09.34     2\n",
            "12/01/10 11.27     1\n",
            "12/01/10 08.35     1\n",
            "12/01/10 10.53     1\n",
            "Name: InvoiceDate, dtype: int64\n"
          ],
          "name": "stdout"
        }
      ]
    },
    {
      "cell_type": "code",
      "metadata": {
        "colab": {
          "base_uri": "https://localhost:8080/"
        },
        "id": "M_dIX_3-4Oc7",
        "outputId": "17154b07-fa7d-4e86-d9cb-ae4163035f45"
      },
      "source": [
        "# Menampilkan tabel frekuensi pada kolom CustomerID.\r\n",
        "print(df[\"CustomerID\"].value_counts())"
      ],
      "execution_count": null,
      "outputs": [
        {
          "output_type": "stream",
          "text": [
            "17850    84\n",
            "15862    53\n",
            "14307    40\n",
            "15311    34\n",
            "16218    32\n",
            "12583    18\n",
            "13448    18\n",
            "17908    16\n",
            "13047    16\n",
            "14688    16\n",
            "16250    14\n",
            "12431    14\n",
            "13767    11\n",
            "16098    11\n",
            "18074    10\n",
            "13705     9\n",
            "17511     8\n",
            "17420     7\n",
            "17548     7\n",
            "13408     2\n",
            "12791     1\n",
            "14527     1\n",
            "17809     1\n",
            "17924     1\n",
            "Name: CustomerID, dtype: int64\n"
          ],
          "name": "stdout"
        }
      ]
    },
    {
      "cell_type": "code",
      "metadata": {
        "colab": {
          "base_uri": "https://localhost:8080/"
        },
        "id": "nyxMsYXU4YY3",
        "outputId": "8d1875bf-eb06-42f7-881c-cf7d9ceb44de"
      },
      "source": [
        "# Menampilkan tabel frekuensi pada kolom InvoiceNo\r\n",
        "print(df[\"InvoiceNo\"].value_counts())"
      ],
      "execution_count": null,
      "outputs": [
        {
          "output_type": "stream",
          "text": [
            "536776    2\n",
            "536775    2\n",
            "536774    2\n",
            "536773    2\n",
            "536772    2\n",
            "         ..\n",
            "536419    1\n",
            "536420    1\n",
            "536421    1\n",
            "536422    1\n",
            "536576    1\n",
            "Name: InvoiceNo, Length: 418, dtype: int64\n"
          ],
          "name": "stdout"
        }
      ]
    },
    {
      "cell_type": "code",
      "metadata": {
        "colab": {
          "base_uri": "https://localhost:8080/"
        },
        "id": "X0oaoEbAAhEk",
        "outputId": "e115100f-496f-4afd-c845-9863bec1e409"
      },
      "source": [
        "# Menampilkan tabel frekuensi pada kolom Quantity yang sudah dibersihkan.\r\n",
        "print('{}'.format(df[\"Quantity\"].value_counts()))"
      ],
      "execution_count": null,
      "outputs": [
        {
          "output_type": "stream",
          "text": [
            "6.0     88\n",
            "12.0    72\n",
            "1.0     61\n",
            "24.0    47\n",
            "2.0     43\n",
            "4.0     29\n",
            "3.0     29\n",
            "8.0     24\n",
            "10.0    19\n",
            "9.0      4\n",
            "5.0      2\n",
            "20.0     2\n",
            "25.0     1\n",
            "16.0     1\n",
            "23.0     1\n",
            "18.0     1\n",
            "Name: Quantity, dtype: int64\n"
          ],
          "name": "stdout"
        }
      ]
    },
    {
      "cell_type": "code",
      "metadata": {
        "id": "_B642UrA81Ki",
        "colab": {
          "base_uri": "https://localhost:8080/"
        },
        "outputId": "668d9a71-3cea-494f-97f6-e70551e6cfd1"
      },
      "source": [
        "# Menampilkan tabel frekuensi pada kolom UnitPrice\r\n",
        "print(df[\"UnitPrice\"].value_counts())"
      ],
      "execution_count": null,
      "outputs": [
        {
          "output_type": "stream",
          "text": [
            "21000    22\n",
            "41000    20\n",
            "19000    18\n",
            "17000    18\n",
            "39000    17\n",
            "25000    17\n",
            "27000    17\n",
            "29000    17\n",
            "30000    17\n",
            "18000    16\n",
            "28000    16\n",
            "33000    16\n",
            "35000    15\n",
            "38000    15\n",
            "16000    15\n",
            "43000    15\n",
            "23000    15\n",
            "24000    14\n",
            "32000    12\n",
            "42000    12\n",
            "36000    11\n",
            "37000    11\n",
            "31000    11\n",
            "22000    10\n",
            "26000    10\n",
            "44000     9\n",
            "34000     9\n",
            "45000     8\n",
            "40000     8\n",
            "20000     8\n",
            "15000     5\n",
            "Name: UnitPrice, dtype: int64\n"
          ],
          "name": "stdout"
        }
      ]
    },
    {
      "cell_type": "code",
      "metadata": {
        "id": "2osuWdTuP73o",
        "colab": {
          "base_uri": "https://localhost:8080/",
          "height": 299
        },
        "outputId": "1150c615-92d1-44a6-fd2b-543865a39e43"
      },
      "source": [
        "#des=df['UnitPrice'].value_counts()\r\n",
        "df.plot(kind='scatter',x='Quantity',y='UnitPrice', rot=90)"
      ],
      "execution_count": null,
      "outputs": [
        {
          "output_type": "execute_result",
          "data": {
            "text/plain": [
              "<matplotlib.axes._subplots.AxesSubplot at 0x7f2b5fef9208>"
            ]
          },
          "metadata": {
            "tags": []
          },
          "execution_count": 154
        },
        {
          "output_type": "display_data",
          "data": {
            "image/png": "[encoded data removed]",
            "text/plain": [
              "<Figure size 432x288 with 1 Axes>"
            ]
          },
          "metadata": {
            "tags": [],
            "needs_background": "light"
          }
        }
      ]
    },
    {
      "cell_type": "code",
      "metadata": {
        "colab": {
          "base_uri": "https://localhost:8080/",
          "height": 295
        },
        "id": "BDJ9g_aA8VsV",
        "outputId": "3884f4b0-5c19-4fb3-b019-54afcb4715c5"
      },
      "source": [
        "# Komposisi banyaknya Quantity berdasarkan \r\n",
        "df[\"Quantity\"].value_counts().plot(kind = \"bar\",grid=True)"
      ],
      "execution_count": null,
      "outputs": [
        {
          "output_type": "execute_result",
          "data": {
            "text/plain": [
              "<matplotlib.axes._subplots.AxesSubplot at 0x7f2b56492588>"
            ]
          },
          "metadata": {
            "tags": []
          },
          "execution_count": 155
        },
        {
          "output_type": "display_data",
          "data": {
            "image/png": "[encoded data removed]",
            "text/plain": [
              "<Figure size 432x288 with 1 Axes>"
            ]
          },
          "metadata": {
            "tags": [],
            "needs_background": "light"
          }
        }
      ]
    },
    {
      "cell_type": "code",
      "metadata": {
        "colab": {
          "base_uri": "https://localhost:8080/",
          "height": 569
        },
        "id": "Q6jfREzc0PmC",
        "outputId": "e2b3119b-9979-4122-fa38-6b38da38c215"
      },
      "source": [
        "dus.plot(kind='line',y=['Quantity'])\r\n",
        "dus.plot(kind='line',y=['total','UnitPrice'])"
      ],
      "execution_count": null,
      "outputs": [
        {
          "output_type": "execute_result",
          "data": {
            "text/plain": [
              "<matplotlib.axes._subplots.AxesSubplot at 0x7f2b5617f6d8>"
            ]
          },
          "metadata": {
            "tags": []
          },
          "execution_count": 165
        },
        {
          "output_type": "display_data",
          "data": {
            "image/png": "[encoded data removed]",
            "text/plain": [
              "<Figure size 432x288 with 1 Axes>"
            ]
          },
          "metadata": {
            "tags": [],
            "needs_background": "light"
          }
        },
        {
          "output_type": "display_data",
          "data": {
            "image/png": "[encoded data removed]",
            "text/plain": [
              "<Figure size 432x288 with 1 Axes>"
            ]
          },
          "metadata": {
            "tags": [],
            "needs_background": "light"
          }
        }
      ]
    },
    {
      "cell_type": "code",
      "metadata": {
        "id": "0rLo_UByqbYQ",
        "colab": {
          "base_uri": "https://localhost:8080/",
          "height": 336
        },
        "outputId": "a8473e16-86ae-4656-de3e-502393128385"
      },
      "source": [
        "df['City'].value_counts().plot(kind='bar', title=\"Sebaran Pemesanan Berdasar Kota\")"
      ],
      "execution_count": null,
      "outputs": [
        {
          "output_type": "execute_result",
          "data": {
            "text/plain": [
              "<matplotlib.axes._subplots.AxesSubplot at 0x7f2b5692ffd0>"
            ]
          },
          "metadata": {
            "tags": []
          },
          "execution_count": 119
        },
        {
          "output_type": "display_data",
          "data": {
            "image/png": "[encoded data removed]",
            "text/plain": [
              "<Figure size 432x288 with 1 Axes>"
            ]
          },
          "metadata": {
            "tags": [],
            "needs_background": "light"
          }
        }
      ]
    },
    {
      "cell_type": "code",
      "metadata": {
        "id": "Bl8_-LlmqpbG",
        "colab": {
          "base_uri": "https://localhost:8080/",
          "height": 265
        },
        "outputId": "a7b13e6f-bd9a-4d6b-9862-8f119695bafd"
      },
      "source": [
        "df[\"City\"].value_counts().plot(kind='pie')"
      ],
      "execution_count": null,
      "outputs": [
        {
          "output_type": "execute_result",
          "data": {
            "text/plain": [
              "<matplotlib.axes._subplots.AxesSubplot at 0x7f2b5687ee80>"
            ]
          },
          "metadata": {
            "tags": []
          },
          "execution_count": 158
        },
        {
          "output_type": "display_data",
          "data": {
            "image/png": "[encoded data removed]",
            "text/plain": [
              "<Figure size 432x288 with 1 Axes>"
            ]
          },
          "metadata": {
            "tags": []
          }
        }
      ]
    },
    {
      "cell_type": "code",
      "metadata": {
        "id": "kenED4FueX41",
        "colab": {
          "base_uri": "https://localhost:8080/",
          "height": 607
        },
        "outputId": "4cac0737-fdaf-4ab3-f88d-5670f5635acb"
      },
      "source": [
        "dus=df.groupby('jam').sum()\r\n",
        "#print(dus)\r\n",
        "df.plot(kind='scatter',x='jam',y='total',sizes=df['Quantity'],rot=90)\r\n",
        "df.plot(kind='scatter',x='jam',y='Quantity',rot=90)"
      ],
      "execution_count": null,
      "outputs": [
        {
          "output_type": "execute_result",
          "data": {
            "text/plain": [
              "<matplotlib.axes._subplots.AxesSubplot at 0x7f2b56399ac8>"
            ]
          },
          "metadata": {
            "tags": []
          },
          "execution_count": 157
        },
        {
          "output_type": "display_data",
          "data": {
            "image/png": "[encoded data removed]",
            "text/plain": [
              "<Figure size 432x288 with 1 Axes>"
            ]
          },
          "metadata": {
            "tags": [],
            "needs_background": "light"
          }
        },
        {
          "output_type": "display_data",
          "data": {
            "image/png": "[encoded data removed]",
            "text/plain": [
              "<Figure size 432x288 with 1 Axes>"
            ]
          },
          "metadata": {
            "tags": [],
            "needs_background": "light"
          }
        }
      ]
    },
    {
      "cell_type": "code",
      "metadata": {
        "id": "NdMyt5FzoZmV"
      },
      "source": [
        ""
      ],
      "execution_count": null,
      "outputs": []
    },
    {
      "cell_type": "code",
      "metadata": {
        "colab": {
          "base_uri": "https://localhost:8080/"
        },
        "id": "Ibf49CcSfNyZ",
        "outputId": "b56e3c9a-f6b7-45a5-b86c-053d6bfc70fe"
      },
      "source": [
        "print(\"korelasi antara harga barang dan kuantitas yang dibeli: \")\r\n",
        "df['UnitPrice'].corr(df['Quantity']) "
      ],
      "execution_count": null,
      "outputs": [
        {
          "output_type": "stream",
          "text": [
            "korelasi antara harga barang dan kuantitas yang dibeli: \n"
          ],
          "name": "stdout"
        },
        {
          "output_type": "execute_result",
          "data": {
            "text/plain": [
              "-0.022242600780539253"
            ]
          },
          "metadata": {
            "tags": []
          },
          "execution_count": 159
        }
      ]
    },
    {
      "cell_type": "code",
      "metadata": {
        "colab": {
          "base_uri": "https://localhost:8080/",
          "height": 204
        },
        "id": "YVrgYnQNumPH",
        "outputId": "1e78212f-5817-4e8b-924b-506a5012d863"
      },
      "source": [
        "df.corr('pearson')"
      ],
      "execution_count": null,
      "outputs": [
        {
          "output_type": "execute_result",
          "data": {
            "text/html": [
              "<div>\n",
              "<style scoped>\n",
              "    .dataframe tbody tr th:only-of-type {\n",
              "        vertical-align: middle;\n",
              "    }\n",
              "\n",
              "    .dataframe tbody tr th {\n",
              "        vertical-align: top;\n",
              "    }\n",
              "\n",
              "    .dataframe thead th {\n",
              "        text-align: right;\n",
              "    }\n",
              "</style>\n",
              "<table border=\"1\" class=\"dataframe\">\n",
              "  <thead>\n",
              "    <tr style=\"text-align: right;\">\n",
              "      <th></th>\n",
              "      <th>InvoiceNo</th>\n",
              "      <th>Quantity</th>\n",
              "      <th>UnitPrice</th>\n",
              "      <th>CustomerID</th>\n",
              "      <th>total</th>\n",
              "    </tr>\n",
              "  </thead>\n",
              "  <tbody>\n",
              "    <tr>\n",
              "      <th>InvoiceNo</th>\n",
              "      <td>1.000000</td>\n",
              "      <td>-0.040896</td>\n",
              "      <td>-0.003248</td>\n",
              "      <td>0.094300</td>\n",
              "      <td>-0.038402</td>\n",
              "    </tr>\n",
              "    <tr>\n",
              "      <th>Quantity</th>\n",
              "      <td>-0.040896</td>\n",
              "      <td>1.000000</td>\n",
              "      <td>-0.022243</td>\n",
              "      <td>-0.222639</td>\n",
              "      <td>0.913659</td>\n",
              "    </tr>\n",
              "    <tr>\n",
              "      <th>UnitPrice</th>\n",
              "      <td>-0.003248</td>\n",
              "      <td>-0.022243</td>\n",
              "      <td>1.000000</td>\n",
              "      <td>-0.027348</td>\n",
              "      <td>0.294707</td>\n",
              "    </tr>\n",
              "    <tr>\n",
              "      <th>CustomerID</th>\n",
              "      <td>0.094300</td>\n",
              "      <td>-0.222639</td>\n",
              "      <td>-0.027348</td>\n",
              "      <td>1.000000</td>\n",
              "      <td>-0.225469</td>\n",
              "    </tr>\n",
              "    <tr>\n",
              "      <th>total</th>\n",
              "      <td>-0.038402</td>\n",
              "      <td>0.913659</td>\n",
              "      <td>0.294707</td>\n",
              "      <td>-0.225469</td>\n",
              "      <td>1.000000</td>\n",
              "    </tr>\n",
              "  </tbody>\n",
              "</table>\n",
              "</div>"
            ],
            "text/plain": [
              "            InvoiceNo  Quantity  UnitPrice  CustomerID     total\n",
              "InvoiceNo    1.000000 -0.040896  -0.003248    0.094300 -0.038402\n",
              "Quantity    -0.040896  1.000000  -0.022243   -0.222639  0.913659\n",
              "UnitPrice   -0.003248 -0.022243   1.000000   -0.027348  0.294707\n",
              "CustomerID   0.094300 -0.222639  -0.027348    1.000000 -0.225469\n",
              "total       -0.038402  0.913659   0.294707   -0.225469  1.000000"
            ]
          },
          "metadata": {
            "tags": []
          },
          "execution_count": 160
        }
      ]
    },
    {
      "cell_type": "code",
      "metadata": {
        "colab": {
          "base_uri": "https://localhost:8080/",
          "height": 318
        },
        "id": "S7sG5HE-3uR9",
        "outputId": "a911c777-144d-4894-e3c3-b12b247a5637"
      },
      "source": [
        "df.plot(kind='scatter',x='UnitPrice',y='Quantity',rot=90)"
      ],
      "execution_count": null,
      "outputs": [
        {
          "output_type": "execute_result",
          "data": {
            "text/plain": [
              "<matplotlib.axes._subplots.AxesSubplot at 0x7f2b4c6d4cf8>"
            ]
          },
          "metadata": {
            "tags": []
          },
          "execution_count": 175
        },
        {
          "output_type": "display_data",
          "data": {
            "image/png": "[encoded data removed]",
            "text/plain": [
              "<Figure size 432x288 with 1 Axes>"
            ]
          },
          "metadata": {
            "tags": [],
            "needs_background": "light"
          }
        }
      ]
    },
    {
      "cell_type": "code",
      "metadata": {
        "colab": {
          "base_uri": "https://localhost:8080/",
          "height": 569
        },
        "id": "6oacVLeM1vy0",
        "outputId": "20e18109-9ca4-4543-fb66-ea34c1224100"
      },
      "source": [
        "from pandas.plotting import scatter_matrix\r\n",
        "dat = pd.DataFrame(np.random.randn(1000, 3), columns=['UnitPrice', 'Quantity', 'Total'])\r\n",
        "scatter_matrix(dat, alpha=0.2, figsize=(6, 6), diagonal='kde')"
      ],
      "execution_count": null,
      "outputs": [
        {
          "output_type": "execute_result",
          "data": {
            "text/plain": [
              "array([[<matplotlib.axes._subplots.AxesSubplot object at 0x7f2b56116b00>,\n",
              "        <matplotlib.axes._subplots.AxesSubplot object at 0x7f2b56218470>,\n",
              "        <matplotlib.axes._subplots.AxesSubplot object at 0x7f2b56034470>],\n",
              "       [<matplotlib.axes._subplots.AxesSubplot object at 0x7f2b5605f7f0>,\n",
              "        <matplotlib.axes._subplots.AxesSubplot object at 0x7f2b5615e2e8>,\n",
              "        <matplotlib.axes._subplots.AxesSubplot object at 0x7f2b55fc1400>],\n",
              "       [<matplotlib.axes._subplots.AxesSubplot object at 0x7f2b55f70780>,\n",
              "        <matplotlib.axes._subplots.AxesSubplot object at 0x7f2b55f9dac8>,\n",
              "        <matplotlib.axes._subplots.AxesSubplot object at 0x7f2b55f9db38>]],\n",
              "      dtype=object)"
            ]
          },
          "metadata": {
            "tags": []
          },
          "execution_count": 168
        },
        {
          "output_type": "display_data",
          "data": {
            "image/png": "[encoded data removed]",
            "text/plain": [
              "<Figure size 432x432 with 9 Axes>"
            ]
          },
          "metadata": {
            "tags": [],
            "needs_background": "light"
          }
        }
      ]
    },
    {
      "cell_type": "code",
      "metadata": {
        "id": "mJ8H9JuluoAA"
      },
      "source": [
        ""
      ],
      "execution_count": null,
      "outputs": []
    }
  ]
}